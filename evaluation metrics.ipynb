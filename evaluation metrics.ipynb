{
 "cells": [
  {
   "cell_type": "markdown",
   "id": "a0d7c992",
   "metadata": {},
   "source": [
    "# Implementing accuracy Accuracy score"
   ]
  },
  {
   "cell_type": "code",
   "execution_count": 18,
   "id": "ed6044a2",
   "metadata": {},
   "outputs": [],
   "source": [
    "# import ibraries \n",
    "import pandas as pd\n",
    "import numpy as np\n",
    "import matplotlib.pyplot as plt\n",
    "from sklearn.linear_model import LogisticRegression\n",
    "from sklearn.feature_extraction import DictVectorizer\n",
    "from sklearn.model_selection import train_test_split"
   ]
  },
  {
   "cell_type": "code",
   "execution_count": 19,
   "id": "d34a0425",
   "metadata": {},
   "outputs": [
    {
     "data": {
      "text/html": [
       "<div>\n",
       "<style scoped>\n",
       "    .dataframe tbody tr th:only-of-type {\n",
       "        vertical-align: middle;\n",
       "    }\n",
       "\n",
       "    .dataframe tbody tr th {\n",
       "        vertical-align: top;\n",
       "    }\n",
       "\n",
       "    .dataframe thead th {\n",
       "        text-align: right;\n",
       "    }\n",
       "</style>\n",
       "<table border=\"1\" class=\"dataframe\">\n",
       "  <thead>\n",
       "    <tr style=\"text-align: right;\">\n",
       "      <th></th>\n",
       "      <th>0</th>\n",
       "      <th>1</th>\n",
       "      <th>2</th>\n",
       "      <th>3</th>\n",
       "      <th>4</th>\n",
       "    </tr>\n",
       "  </thead>\n",
       "  <tbody>\n",
       "    <tr>\n",
       "      <th>state</th>\n",
       "      <td>OH</td>\n",
       "      <td>NJ</td>\n",
       "      <td>OH</td>\n",
       "      <td>OK</td>\n",
       "      <td>MA</td>\n",
       "    </tr>\n",
       "    <tr>\n",
       "      <th>account_length</th>\n",
       "      <td>107</td>\n",
       "      <td>137</td>\n",
       "      <td>84</td>\n",
       "      <td>75</td>\n",
       "      <td>121</td>\n",
       "    </tr>\n",
       "    <tr>\n",
       "      <th>area_code</th>\n",
       "      <td>area_code_415</td>\n",
       "      <td>area_code_415</td>\n",
       "      <td>area_code_408</td>\n",
       "      <td>area_code_415</td>\n",
       "      <td>area_code_510</td>\n",
       "    </tr>\n",
       "    <tr>\n",
       "      <th>international_plan</th>\n",
       "      <td>no</td>\n",
       "      <td>no</td>\n",
       "      <td>yes</td>\n",
       "      <td>yes</td>\n",
       "      <td>no</td>\n",
       "    </tr>\n",
       "    <tr>\n",
       "      <th>voice_mail_plan</th>\n",
       "      <td>yes</td>\n",
       "      <td>no</td>\n",
       "      <td>no</td>\n",
       "      <td>no</td>\n",
       "      <td>yes</td>\n",
       "    </tr>\n",
       "    <tr>\n",
       "      <th>number_vmail_messages</th>\n",
       "      <td>26</td>\n",
       "      <td>0</td>\n",
       "      <td>0</td>\n",
       "      <td>0</td>\n",
       "      <td>24</td>\n",
       "    </tr>\n",
       "    <tr>\n",
       "      <th>total_day_minutes</th>\n",
       "      <td>161.6</td>\n",
       "      <td>243.4</td>\n",
       "      <td>299.4</td>\n",
       "      <td>166.7</td>\n",
       "      <td>218.2</td>\n",
       "    </tr>\n",
       "    <tr>\n",
       "      <th>total_day_calls</th>\n",
       "      <td>123</td>\n",
       "      <td>114</td>\n",
       "      <td>71</td>\n",
       "      <td>113</td>\n",
       "      <td>88</td>\n",
       "    </tr>\n",
       "    <tr>\n",
       "      <th>total_day_charge</th>\n",
       "      <td>27.47</td>\n",
       "      <td>41.38</td>\n",
       "      <td>50.9</td>\n",
       "      <td>28.34</td>\n",
       "      <td>37.09</td>\n",
       "    </tr>\n",
       "    <tr>\n",
       "      <th>total_eve_minutes</th>\n",
       "      <td>195.5</td>\n",
       "      <td>121.2</td>\n",
       "      <td>61.9</td>\n",
       "      <td>148.3</td>\n",
       "      <td>348.5</td>\n",
       "    </tr>\n",
       "    <tr>\n",
       "      <th>total_eve_calls</th>\n",
       "      <td>103</td>\n",
       "      <td>110</td>\n",
       "      <td>88</td>\n",
       "      <td>122</td>\n",
       "      <td>108</td>\n",
       "    </tr>\n",
       "    <tr>\n",
       "      <th>total_eve_charge</th>\n",
       "      <td>16.62</td>\n",
       "      <td>10.3</td>\n",
       "      <td>5.26</td>\n",
       "      <td>12.61</td>\n",
       "      <td>29.62</td>\n",
       "    </tr>\n",
       "    <tr>\n",
       "      <th>total_night_minutes</th>\n",
       "      <td>254.4</td>\n",
       "      <td>162.6</td>\n",
       "      <td>196.9</td>\n",
       "      <td>186.9</td>\n",
       "      <td>212.6</td>\n",
       "    </tr>\n",
       "    <tr>\n",
       "      <th>total_night_calls</th>\n",
       "      <td>103</td>\n",
       "      <td>104</td>\n",
       "      <td>89</td>\n",
       "      <td>121</td>\n",
       "      <td>118</td>\n",
       "    </tr>\n",
       "    <tr>\n",
       "      <th>total_night_charge</th>\n",
       "      <td>11.45</td>\n",
       "      <td>7.32</td>\n",
       "      <td>8.86</td>\n",
       "      <td>8.41</td>\n",
       "      <td>9.57</td>\n",
       "    </tr>\n",
       "    <tr>\n",
       "      <th>total_intl_minutes</th>\n",
       "      <td>13.7</td>\n",
       "      <td>12.2</td>\n",
       "      <td>6.6</td>\n",
       "      <td>10.1</td>\n",
       "      <td>7.5</td>\n",
       "    </tr>\n",
       "    <tr>\n",
       "      <th>total_intl_calls</th>\n",
       "      <td>3</td>\n",
       "      <td>5</td>\n",
       "      <td>7</td>\n",
       "      <td>3</td>\n",
       "      <td>7</td>\n",
       "    </tr>\n",
       "    <tr>\n",
       "      <th>total_intl_charge</th>\n",
       "      <td>3.7</td>\n",
       "      <td>3.29</td>\n",
       "      <td>1.78</td>\n",
       "      <td>2.73</td>\n",
       "      <td>2.03</td>\n",
       "    </tr>\n",
       "    <tr>\n",
       "      <th>number_customer_service_calls</th>\n",
       "      <td>1</td>\n",
       "      <td>0</td>\n",
       "      <td>2</td>\n",
       "      <td>3</td>\n",
       "      <td>3</td>\n",
       "    </tr>\n",
       "    <tr>\n",
       "      <th>churn</th>\n",
       "      <td>no</td>\n",
       "      <td>no</td>\n",
       "      <td>no</td>\n",
       "      <td>no</td>\n",
       "      <td>no</td>\n",
       "    </tr>\n",
       "  </tbody>\n",
       "</table>\n",
       "</div>"
      ],
      "text/plain": [
       "                                           0              1              2  \\\n",
       "state                                     OH             NJ             OH   \n",
       "account_length                           107            137             84   \n",
       "area_code                      area_code_415  area_code_415  area_code_408   \n",
       "international_plan                        no             no            yes   \n",
       "voice_mail_plan                          yes             no             no   \n",
       "number_vmail_messages                     26              0              0   \n",
       "total_day_minutes                      161.6          243.4          299.4   \n",
       "total_day_calls                          123            114             71   \n",
       "total_day_charge                       27.47          41.38           50.9   \n",
       "total_eve_minutes                      195.5          121.2           61.9   \n",
       "total_eve_calls                          103            110             88   \n",
       "total_eve_charge                       16.62           10.3           5.26   \n",
       "total_night_minutes                    254.4          162.6          196.9   \n",
       "total_night_calls                        103            104             89   \n",
       "total_night_charge                     11.45           7.32           8.86   \n",
       "total_intl_minutes                      13.7           12.2            6.6   \n",
       "total_intl_calls                           3              5              7   \n",
       "total_intl_charge                        3.7           3.29           1.78   \n",
       "number_customer_service_calls              1              0              2   \n",
       "churn                                     no             no             no   \n",
       "\n",
       "                                           3              4  \n",
       "state                                     OK             MA  \n",
       "account_length                            75            121  \n",
       "area_code                      area_code_415  area_code_510  \n",
       "international_plan                       yes             no  \n",
       "voice_mail_plan                           no            yes  \n",
       "number_vmail_messages                      0             24  \n",
       "total_day_minutes                      166.7          218.2  \n",
       "total_day_calls                          113             88  \n",
       "total_day_charge                       28.34          37.09  \n",
       "total_eve_minutes                      148.3          348.5  \n",
       "total_eve_calls                          122            108  \n",
       "total_eve_charge                       12.61          29.62  \n",
       "total_night_minutes                    186.9          212.6  \n",
       "total_night_calls                        121            118  \n",
       "total_night_charge                      8.41           9.57  \n",
       "total_intl_minutes                      10.1            7.5  \n",
       "total_intl_calls                           3              7  \n",
       "total_intl_charge                       2.73           2.03  \n",
       "number_customer_service_calls              3              3  \n",
       "churn                                     no             no  "
      ]
     },
     "execution_count": 19,
     "metadata": {},
     "output_type": "execute_result"
    }
   ],
   "source": [
    "# Read the data\n",
    "data=pd.read_csv(\"/Users/victoroshimua/Desktop/customer-churn-prediction-/train.csv\")\n",
    "data.head().T"
   ]
  },
  {
   "cell_type": "code",
   "execution_count": 20,
   "id": "6553f34c",
   "metadata": {},
   "outputs": [
    {
     "name": "stderr",
     "output_type": "stream",
     "text": [
      "/var/folders/zp/12tgv94s36x_34hdc9gjmywh0000gn/T/ipykernel_4172/2836298689.py:7: FutureWarning: Using short name for 'orient' is deprecated. Only the options: ('dict', list, 'series', 'split', 'records', 'index') will be used in a future version. Use one of the above to silence this warning.\n",
      "  train_dicts=data_train.to_dict(orient='record')\n",
      "/var/folders/zp/12tgv94s36x_34hdc9gjmywh0000gn/T/ipykernel_4172/2836298689.py:8: FutureWarning: Using short name for 'orient' is deprecated. Only the options: ('dict', list, 'series', 'split', 'records', 'index') will be used in a future version. Use one of the above to silence this warning.\n",
      "  test_dicts=data_test.to_dict(orient='record')\n"
     ]
    }
   ],
   "source": [
    "data.churn=(data.churn==\"yes\").astype(int)\n",
    "data_train,data_test= train_test_split(data,test_size=30,random_state=1)\n",
    "Y_train=data_train[\"churn\"]\n",
    "Y_test=data_test[\"churn\"]\n",
    "del data_train[\"churn\"]\n",
    "del data_test[\"churn\"]\n",
    "train_dicts=data_train.to_dict(orient='record')\n",
    "test_dicts=data_test.to_dict(orient='record')\n",
    "dv=DictVectorizer(sparse=False)\n",
    "dv.fit(train_dicts)\n",
    "X_train=dv.transform(train_dicts)\n",
    "X_test=dv.transform(test_dicts)\n"
   ]
  },
  {
   "cell_type": "markdown",
   "id": "c4f21560",
   "metadata": {},
   "source": [
    "categorical=data.select_dtypes(include=['object']).columns.tolist()\n",
    "numeric = ['account_length',\n",
    " 'number_vmail_messages',\n",
    " 'total_day_minutes',\n",
    " 'total_day_calls',\n",
    " 'total_day_charge',\n",
    " 'total_eve_minutes',\n",
    " 'total_eve_calls',\n",
    " 'total_eve_charge',\n",
    " 'total_night_minutes',\n",
    " 'total_night_calls',\n",
    " 'total_night_charge',\n",
    " 'total_intl_minutes',\n",
    " 'total_intl_calls',\n",
    " 'total_intl_charge',\n",
    " 'number_customer_service_calls']"
   ]
  },
  {
   "cell_type": "markdown",
   "id": "88b04388",
   "metadata": {},
   "source": [
    "train_dicts=data_train[categorical+numeric].to_dict(orient='record')\n",
    "train_dicts[0]"
   ]
  },
  {
   "cell_type": "markdown",
   "id": "ad414001",
   "metadata": {},
   "source": [
    "test_dicts=data_test[categorical+numeric].to_dict(orient='record')\n"
   ]
  },
  {
   "cell_type": "markdown",
   "id": "90d97c1d",
   "metadata": {},
   "source": [
    "dv=DictVectorizer(sparse=False)\n",
    "dv.fit(train_dicts)\n",
    "X_train=dv.transform(train_dicts)\n",
    "X_test=dv.transform(test_dicts)"
   ]
  },
  {
   "cell_type": "code",
   "execution_count": 21,
   "id": "3f51fca5",
   "metadata": {},
   "outputs": [
    {
     "name": "stderr",
     "output_type": "stream",
     "text": [
      "/Users/victoroshimua/anaconda3/lib/python3.9/site-packages/sklearn/linear_model/_logistic.py:814: ConvergenceWarning: lbfgs failed to converge (status=1):\n",
      "STOP: TOTAL NO. of ITERATIONS REACHED LIMIT.\n",
      "\n",
      "Increase the number of iterations (max_iter) or scale the data as shown in:\n",
      "    https://scikit-learn.org/stable/modules/preprocessing.html\n",
      "Please also refer to the documentation for alternative solver options:\n",
      "    https://scikit-learn.org/stable/modules/linear_model.html#logistic-regression\n",
      "  n_iter_i = _check_optimize_result(\n"
     ]
    },
    {
     "data": {
      "text/plain": [
       "LogisticRegression()"
      ]
     },
     "execution_count": 21,
     "metadata": {},
     "output_type": "execute_result"
    }
   ],
   "source": [
    "from sklearn.linear_model import LogisticRegression\n",
    "model=LogisticRegression()\n",
    "model.fit(X_train,Y_train)"
   ]
  },
  {
   "cell_type": "code",
   "execution_count": 22,
   "id": "7293b305",
   "metadata": {},
   "outputs": [
    {
     "name": "stdout",
     "output_type": "stream",
     "text": [
      "Your Logistic Regression model has an accuracy of 0.8666666666666667\n"
     ]
    }
   ],
   "source": [
    "from sklearn.metrics import accuracy_score\n",
    "prediction= model.predict(X_test)\n",
    "accuracy=accuracy_score(Y_test,prediction)\n",
    "print(\"Your Logistic Regression model has an accuracy of {}\".format(accuracy))"
   ]
  },
  {
   "cell_type": "markdown",
   "id": "f8492634",
   "metadata": {},
   "source": [
    "# Implementing confusion table"
   ]
  },
  {
   "cell_type": "code",
   "execution_count": 23,
   "id": "e6d4a5e6",
   "metadata": {},
   "outputs": [
    {
     "data": {
      "text/plain": [
       "array([[26,  0],\n",
       "       [ 4,  0]])"
      ]
     },
     "execution_count": 23,
     "metadata": {},
     "output_type": "execute_result"
    }
   ],
   "source": [
    "from sklearn.metrics import confusion_matrix\n",
    "prediction= model.predict(X_test)\n",
    "confusion_matrix=confusion_matrix(Y_test,prediction)\n",
    "confusion_matrix"
   ]
  },
  {
   "cell_type": "code",
   "execution_count": 24,
   "id": "095f844f",
   "metadata": {},
   "outputs": [
    {
     "data": {
      "text/plain": [
       "array([[0.87, 0.  ],\n",
       "       [0.13, 0.  ]])"
      ]
     },
     "execution_count": 24,
     "metadata": {},
     "output_type": "execute_result"
    }
   ],
   "source": [
    "(confusion_matrix/confusion_matrix.sum()).round(2)\n",
    "#confusion matrix percentage"
   ]
  }
 ],
 "metadata": {
  "kernelspec": {
   "display_name": "Python 3 (ipykernel)",
   "language": "python",
   "name": "python3"
  },
  "language_info": {
   "codemirror_mode": {
    "name": "ipython",
    "version": 3
   },
   "file_extension": ".py",
   "mimetype": "text/x-python",
   "name": "python",
   "nbconvert_exporter": "python",
   "pygments_lexer": "ipython3",
   "version": "3.9.12"
  }
 },
 "nbformat": 4,
 "nbformat_minor": 5
}
